{
 "cells": [
  {
   "cell_type": "code",
   "execution_count": 1,
   "metadata": {},
   "outputs": [],
   "source": [
    "import requests\n",
    "import json\n",
    "import cx_Oracle\n",
    "from lxml import etree\n",
    "import pandas as pd\n",
    "import re\n",
    "import subprocess\n",
    "import dbconfig\n",
    "import config as c\n",
    "import time\n",
    "import random"
   ]
  },
  {
   "cell_type": "code",
   "execution_count": 2,
   "metadata": {},
   "outputs": [
    {
     "data": {
      "text/plain": [
       "<Response [200]>"
      ]
     },
     "execution_count": 2,
     "metadata": {},
     "output_type": "execute_result"
    }
   ],
   "source": [
    "# login to Transkribus\n",
    "my_session = requests.Session()\n",
    "my_session.post('https://transkribus.eu/TrpServer/rest/auth/login', data={\"user\": c.login, \"pw\": c.password})"
   ]
  },
  {
   "cell_type": "code",
   "execution_count": 3,
   "metadata": {},
   "outputs": [],
   "source": [
    "# set collection id\n",
    "collid = \"72436\""
   ]
  },
  {
   "cell_type": "code",
   "execution_count": 4,
   "metadata": {},
   "outputs": [],
   "source": [
    "# get docids and sesamids from Transkribus\n",
    "docs = my_session.get('https://transkribus.eu/TrpServer/rest/collections/{}/list'.format(collid))\n",
    "docids = [o['docId'] for o in json.loads(docs.content) if len(o['title']) == 32]\n",
    "sesamids = [o['title'] for o in json.loads(docs.content) if len(o['title']) == 32]\n",
    "\n",
    "# only keep those records containing sesamid (regex check)\n",
    "filtered_docs = [o for o in json.loads(docs.content) if re.findall(r\"([a-fA-F\\d]{32})\", o[\"title\"])]"
   ]
  },
  {
   "cell_type": "code",
   "execution_count": 5,
   "metadata": {},
   "outputs": [],
   "source": [
    "docid = 432689"
   ]
  },
  {
   "cell_type": "code",
   "execution_count": 6,
   "metadata": {},
   "outputs": [],
   "source": [
    "doc = my_session.get('https://transkribus.eu/TrpServer/rest/collections/{}/{}/fulldoc'.format(collid,docid))"
   ]
  },
  {
   "cell_type": "markdown",
   "metadata": {},
   "source": [
    "Download Saxon HE, supports XSLT 2.0.\n",
    "https://www.saxonica.com/download/java.xml\n",
    "\n",
    "Unzip and insert the location below:"
   ]
  },
  {
   "cell_type": "code",
   "execution_count": 7,
   "metadata": {},
   "outputs": [],
   "source": [
    "saxonLocation = \"/home/magbb/programs/saxon/saxon-he-10.3.jar\""
   ]
  },
  {
   "cell_type": "code",
   "execution_count": 8,
   "metadata": {},
   "outputs": [
    {
     "name": "stdout",
     "output_type": "stream",
     "text": [
      "1\n",
      "2\n",
      "3\n",
      "4\n",
      "5\n",
      "6\n",
      "7\n"
     ]
    }
   ],
   "source": [
    "docRows = []\n",
    "for page in json.loads(doc.content)[\"pageList\"]['pages']:\n",
    "    pageNr = page[\"pageNr\"]\n",
    "    print(pageNr)\n",
    "    page = my_session.get('https://transkribus.eu/TrpServer/rest/collections/{}/{}/{}/text'.format(collid,docid,pageNr))\n",
    "    \n",
    "    pagexmlName = 'PAGEXML' + '_' + str(collid) + '_' + str(docid) + '_' + str(pageNr) + '.xml'\n",
    "    altoxmlName = 'ALTOXML' + '_' + str(collid) + '_' + str(docid) + '_' + str(pageNr) + '.xml'\n",
    "    \n",
    "    with open('docs/' + pagexmlName, 'wb') as f:\n",
    "        f.write(page.content)\n",
    "        \n",
    "    # transform\n",
    "    subprocess.call([\"java\", \"-jar\", saxonLocation, \"-o:docs/%s\" % (altoxmlName), \"-s:docs/%s\" % (pagexmlName), \"xslt/PageToAltoWordLevel.xsl\"])\n",
    "    \n",
    "    time.sleep(random.randint(0,2))"
   ]
  }
 ],
 "metadata": {
  "kernelspec": {
   "display_name": "Python 3",
   "language": "python",
   "name": "python3"
  },
  "language_info": {
   "codemirror_mode": {
    "name": "ipython",
    "version": 3
   },
   "file_extension": ".py",
   "mimetype": "text/x-python",
   "name": "python",
   "nbconvert_exporter": "python",
   "pygments_lexer": "ipython3",
   "version": "3.8.5"
  }
 },
 "nbformat": 4,
 "nbformat_minor": 2
}
