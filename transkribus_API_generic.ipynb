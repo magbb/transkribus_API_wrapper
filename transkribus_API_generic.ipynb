{
 "cells": [
  {
   "cell_type": "code",
   "execution_count": null,
   "metadata": {},
   "outputs": [],
   "source": [
    "import config as c\n",
    "import requests\n",
    "from requests_toolbelt.multipart.encoder import MultipartEncoder\n",
    "import os\n",
    "from IPython.core.display import HTML\n",
    "import time\n",
    "import random\n",
    "from lxml import etree\n",
    "import json"
   ]
  },
  {
   "cell_type": "markdown",
   "metadata": {},
   "source": [
    "# Login"
   ]
  },
  {
   "cell_type": "code",
   "execution_count": null,
   "metadata": {},
   "outputs": [],
   "source": [
    "s = requests.Session()\n",
    "s.post('https://transkribus.eu/TrpServer/rest/auth/login', data={\"user\": c.login, \"pw\":c.password})"
   ]
  },
  {
   "cell_type": "markdown",
   "metadata": {},
   "source": [
    "## List collections"
   ]
  },
  {
   "cell_type": "code",
   "execution_count": null,
   "metadata": {},
   "outputs": [],
   "source": [
    "collections = s.get('https://transkribus.eu/TrpServer/rest/collections/list')"
   ]
  },
  {
   "cell_type": "code",
   "execution_count": null,
   "metadata": {},
   "outputs": [],
   "source": [
    "json.loads(collections.content)"
   ]
  },
  {
   "cell_type": "code",
   "execution_count": null,
   "metadata": {},
   "outputs": [],
   "source": [
    "docs = s.get('https://transkribus.eu/TrpServer/rest/collections/{id}/list')"
   ]
  },
  {
   "cell_type": "code",
   "execution_count": null,
   "metadata": {},
   "outputs": [],
   "source": [
    "json.loads(docs.content)"
   ]
  },
  {
   "cell_type": "code",
   "execution_count": null,
   "metadata": {},
   "outputs": [],
   "source": [
    "ids = [obj[\"docId\"] for obj in json.loads(docs.content)]\n",
    "print(ids)"
   ]
  },
  {
   "cell_type": "markdown",
   "metadata": {},
   "source": [
    "## Get Transkribus ID from sesamid"
   ]
  },
  {
   "cell_type": "code",
   "execution_count": null,
   "metadata": {},
   "outputs": [],
   "source": [
    "sesamids = ['']"
   ]
  },
  {
   "cell_type": "code",
   "execution_count": null,
   "metadata": {},
   "outputs": [],
   "source": [
    "ids = [obj[\"docId\"] for obj in json.loads(docs.content) if obj[\"title\"] in sesamids]"
   ]
  },
  {
   "cell_type": "code",
   "execution_count": null,
   "metadata": {},
   "outputs": [],
   "source": [
    "len(ids)"
   ]
  },
  {
   "cell_type": "markdown",
   "metadata": {},
   "source": [
    "## Delete from collection"
   ]
  },
  {
   "cell_type": "code",
   "execution_count": null,
   "metadata": {},
   "outputs": [],
   "source": [
    "ids = []"
   ]
  },
  {
   "cell_type": "code",
   "execution_count": null,
   "metadata": {
    "scrolled": true
   },
   "outputs": [],
   "source": [
    "for id in ids:\n",
    "    print(id)\n",
    "    r = s.delete('https://transkribus.eu/TrpServer/rest/collections/{collId}/' + str(id))\n",
    "    print(r.status_code)\n",
    "    time.sleep(1)"
   ]
  },
  {
   "cell_type": "markdown",
   "metadata": {},
   "source": [
    "# Upload to collection"
   ]
  },
  {
   "cell_type": "code",
   "execution_count": null,
   "metadata": {},
   "outputs": [],
   "source": [
    "uploadObj = {\n",
    "    \"md\": {\n",
    "        \"title\": \"EXAMPLE-ID\"\n",
    "    },\n",
    "    \"pageList\": {\"pages\": [\n",
    "        {\n",
    "            \"fileName\": \"0001.jpg\",\n",
    "            \"pageNr\": 1\n",
    "        },\n",
    "        {\n",
    "            \"fileName\": \"0002.jpg\",\n",
    "            \"pageNr\": 2\n",
    "        }\n",
    "    ]}\n",
    "}"
   ]
  },
  {
   "cell_type": "code",
   "execution_count": null,
   "metadata": {},
   "outputs": [],
   "source": [
    "uploadObj"
   ]
  },
  {
   "cell_type": "code",
   "execution_count": null,
   "metadata": {},
   "outputs": [],
   "source": [
    "headers = {'Content-type': 'application/json'}\n",
    "cont = s.post('https://transkribus.eu/TrpServer/rest/uploads?collId={id}', json=uploadObj, headers=headers)"
   ]
  },
  {
   "cell_type": "code",
   "execution_count": null,
   "metadata": {},
   "outputs": [],
   "source": [
    "cont.content"
   ]
  },
  {
   "cell_type": "code",
   "execution_count": null,
   "metadata": {},
   "outputs": [],
   "source": [
    "# parse and get upload ID\n",
    "response = etree.fromstring(cont.content)\n",
    "uploadId = response.xpath('//uploadId/text()')[0]\n",
    "print(uploadId)"
   ]
  },
  {
   "cell_type": "code",
   "execution_count": null,
   "metadata": {},
   "outputs": [],
   "source": [
    "# loop through files\n",
    "for file in ['0001.jpg', '0002.jpg']:\n",
    "    print(file)\n",
    "    files = {file: open(file, 'rb')}\n",
    "    \n",
    "    mp_encoder = MultipartEncoder(\n",
    "    fields={\n",
    "        # plain file object, no filename or mime type produces a\n",
    "        # Content-Disposition header with just the part name\n",
    "        'img': (file, open(file, 'rb'), 'application/octet-stream'),\n",
    "        }\n",
    "    )\n",
    "    \n",
    "    cont = s.put('https://transkribus.eu/TrpServer/rest/uploads/' + uploadId, data=mp_encoder, headers={'Content-Type': mp_encoder.content_type})\n",
    "    print(cont.content)\n",
    "    time.sleep(random.randint(0,2))"
   ]
  }
 ],
 "metadata": {
  "kernelspec": {
   "display_name": "Python 3",
   "language": "python",
   "name": "python3"
  },
  "language_info": {
   "codemirror_mode": {
    "name": "ipython",
    "version": 3
   },
   "file_extension": ".py",
   "mimetype": "text/x-python",
   "name": "python",
   "nbconvert_exporter": "python",
   "pygments_lexer": "ipython3",
   "version": "3.8.2"
  }
 },
 "nbformat": 4,
 "nbformat_minor": 2
}
