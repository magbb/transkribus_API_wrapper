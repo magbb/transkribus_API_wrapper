{
 "cells": [
  {
   "cell_type": "code",
   "execution_count": 103,
   "metadata": {},
   "outputs": [],
   "source": [
    "import config as c\n",
    "import requests\n",
    "from requests_toolbelt.multipart.encoder import MultipartEncoder\n",
    "import os\n",
    "from IPython.core.display import HTML\n",
    "import time\n",
    "import random\n",
    "import lxml\n",
    "from lxml import etree\n",
    "import json\n",
    "import pandas as pd"
   ]
  },
  {
   "cell_type": "code",
   "execution_count": 117,
   "metadata": {},
   "outputs": [],
   "source": [
    "def get_identifiers(identifier, xml):\n",
    "    try:\n",
    "        doc = etree.fromstring(xml)\n",
    "        ns = {\"mods\": \"http://www.loc.gov/mods/v3\"}\n",
    "        sesamid = doc.xpath('//mods:identifier[@type=\"sesamid\"]/text()', namespaces=ns)\n",
    "        urn = doc.xpath('//mods:identifier[@type=\"urn\"]/text()', namespaces=ns)\n",
    "\n",
    "        if sesamid and urn:\n",
    "            return {'sesamid': sesamid[0], 'urn': urn[0]}\n",
    "        else:\n",
    "            return None\n",
    "    except:\n",
    "        print(\"got no result for\", identifier)\n",
    "        return None"
   ]
  },
  {
   "cell_type": "code",
   "execution_count": 118,
   "metadata": {},
   "outputs": [],
   "source": [
    "def get_mapping(identifiers):\n",
    "    mappingList = list()\n",
    "    for identifier in identifiers:\n",
    "        xml = requests.get(\"https://api.nb.no/catalog/v1/metadata/%s/mods\" % (identifier))\n",
    "        content = xml.content\n",
    "        mapping = get_identifiers(identifier, content)\n",
    "        if mapping:\n",
    "            mappingList.append(mapping)\n",
    "        time.sleep(random.randint(0,2))\n",
    "    return mappingList"
   ]
  },
  {
   "cell_type": "markdown",
   "metadata": {},
   "source": [
    "# Define URNs or sesamids"
   ]
  },
  {
   "cell_type": "code",
   "execution_count": 119,
   "metadata": {},
   "outputs": [],
   "source": [
    "ids = ['URN:NBN:no-nb_digimanus_310931', '5e2464dbb847201ac25d3b7144045535']"
   ]
  },
  {
   "cell_type": "code",
   "execution_count": 120,
   "metadata": {},
   "outputs": [],
   "source": [
    "mapping = get_mapping(ids)"
   ]
  },
  {
   "cell_type": "code",
   "execution_count": 121,
   "metadata": {},
   "outputs": [
    {
     "name": "stdout",
     "output_type": "stream",
     "text": [
      "[{'sesamid': '5e2464dbb847201ac25d3b7144045535', 'urn': 'URN:NBN:no-nb_digimanus_310931'}, {'sesamid': '5e2464dbb847201ac25d3b7144045535', 'urn': 'URN:NBN:no-nb_digimanus_310931'}]\n"
     ]
    }
   ],
   "source": [
    "print(mapping)"
   ]
  },
  {
   "cell_type": "markdown",
   "metadata": {},
   "source": [
    "# Convert to dataframe and export"
   ]
  },
  {
   "cell_type": "code",
   "execution_count": 122,
   "metadata": {},
   "outputs": [
    {
     "data": {
      "text/html": [
       "<div>\n",
       "<style scoped>\n",
       "    .dataframe tbody tr th:only-of-type {\n",
       "        vertical-align: middle;\n",
       "    }\n",
       "\n",
       "    .dataframe tbody tr th {\n",
       "        vertical-align: top;\n",
       "    }\n",
       "\n",
       "    .dataframe thead th {\n",
       "        text-align: right;\n",
       "    }\n",
       "</style>\n",
       "<table border=\"1\" class=\"dataframe\">\n",
       "  <thead>\n",
       "    <tr style=\"text-align: right;\">\n",
       "      <th></th>\n",
       "      <th>sesamid</th>\n",
       "      <th>urn</th>\n",
       "    </tr>\n",
       "  </thead>\n",
       "  <tbody>\n",
       "    <tr>\n",
       "      <th>0</th>\n",
       "      <td>5e2464dbb847201ac25d3b7144045535</td>\n",
       "      <td>URN:NBN:no-nb_digimanus_310931</td>\n",
       "    </tr>\n",
       "    <tr>\n",
       "      <th>1</th>\n",
       "      <td>5e2464dbb847201ac25d3b7144045535</td>\n",
       "      <td>URN:NBN:no-nb_digimanus_310931</td>\n",
       "    </tr>\n",
       "  </tbody>\n",
       "</table>\n",
       "</div>"
      ],
      "text/plain": [
       "                            sesamid                             urn\n",
       "0  5e2464dbb847201ac25d3b7144045535  URN:NBN:no-nb_digimanus_310931\n",
       "1  5e2464dbb847201ac25d3b7144045535  URN:NBN:no-nb_digimanus_310931"
      ]
     },
     "execution_count": 122,
     "metadata": {},
     "output_type": "execute_result"
    }
   ],
   "source": [
    "df = pd.DataFrame(mapping)\n",
    "df"
   ]
  },
  {
   "cell_type": "code",
   "execution_count": null,
   "metadata": {},
   "outputs": [],
   "source": [
    "#df.to_excel().."
   ]
  }
 ],
 "metadata": {
  "kernelspec": {
   "display_name": "Python 3",
   "language": "python",
   "name": "python3"
  },
  "language_info": {
   "codemirror_mode": {
    "name": "ipython",
    "version": 3
   },
   "file_extension": ".py",
   "mimetype": "text/x-python",
   "name": "python",
   "nbconvert_exporter": "python",
   "pygments_lexer": "ipython3",
   "version": "3.8.5"
  }
 },
 "nbformat": 4,
 "nbformat_minor": 2
}
