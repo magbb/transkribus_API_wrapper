{
 "cells": [
  {
   "cell_type": "code",
   "execution_count": null,
   "metadata": {},
   "outputs": [],
   "source": [
    "import config as c\n",
    "import requests\n",
    "from requests_toolbelt.multipart.encoder import MultipartEncoder\n",
    "import os\n",
    "from IPython.core.display import HTML\n",
    "import time\n",
    "import random\n",
    "from lxml import etree\n",
    "import json"
   ]
  },
  {
   "cell_type": "code",
   "execution_count": null,
   "metadata": {},
   "outputs": [],
   "source": [
    "def iiif_manifest(urn):\n",
    "    r = requests.get(\"https://api.nb.no/catalog/v1/iiif/{urn}/manifest\".format(urn=urn))\n",
    "    return r.json()\n",
    "\n",
    "def get_pages(manifest):\n",
    "    try:\n",
    "        pages = [page['images'][0]['resource']['@id'] for page in manifest['sequences'][0]['canvases']]\n",
    "    except KeyError:\n",
    "        pages = []\n",
    "    return pages\n",
    "\n",
    "def download_pages(pages, wait=1):\n",
    "    pageDict = dict()\n",
    "    for page in pages:\n",
    "        try:\n",
    "            filename = page.split('/')[6].split(':')[-1] + '.jpg'\n",
    "            r = requests.get(page, stream=True)\n",
    "            pageDict[filename] = r.content\n",
    "            time.sleep(wait)\n",
    "        except:\n",
    "            continue\n",
    "    return pageDict"
   ]
  },
  {
   "cell_type": "markdown",
   "metadata": {},
   "source": [
    "# Login"
   ]
  },
  {
   "cell_type": "code",
   "execution_count": null,
   "metadata": {},
   "outputs": [],
   "source": [
    "s = requests.Session()\n",
    "s.post('https://transkribus.eu/TrpServer/rest/auth/login', data={\"user\": c.login, \"pw\":c.password})"
   ]
  },
  {
   "cell_type": "markdown",
   "metadata": {},
   "source": [
    "## List collections"
   ]
  },
  {
   "cell_type": "code",
   "execution_count": null,
   "metadata": {},
   "outputs": [],
   "source": [
    "collections = s.get('https://transkribus.eu/TrpServer/rest/collections/list')"
   ]
  },
  {
   "cell_type": "code",
   "execution_count": null,
   "metadata": {
    "scrolled": true
   },
   "outputs": [],
   "source": [
    "json.loads(collections.content)"
   ]
  },
  {
   "cell_type": "code",
   "execution_count": null,
   "metadata": {},
   "outputs": [],
   "source": [
    "docs = s.get('https://transkribus.eu/TrpServer/rest/collections/{id}/list')"
   ]
  },
  {
   "cell_type": "code",
   "execution_count": null,
   "metadata": {},
   "outputs": [],
   "source": [
    "json.loads(docs.content)"
   ]
  },
  {
   "cell_type": "markdown",
   "metadata": {},
   "source": [
    "# Set sesamids to upload"
   ]
  },
  {
   "cell_type": "code",
   "execution_count": null,
   "metadata": {},
   "outputs": [],
   "source": [
    "sesamids = ['']"
   ]
  },
  {
   "cell_type": "markdown",
   "metadata": {},
   "source": [
    "# Loop through"
   ]
  },
  {
   "cell_type": "code",
   "execution_count": null,
   "metadata": {},
   "outputs": [],
   "source": [
    "skipped = []\n",
    "for sesamid in sesamids:\n",
    "    fail = False\n",
    "    print(\"Sesamid\", sesamid)\n",
    "    manifest = iiif_manifest(sesamid)\n",
    "    pages = get_pages(manifest)\n",
    "    files = download_pages(pages)\n",
    "    \n",
    "    pages_metadata = [{'fileName': val, 'pageNr': idx+1} for idx,val in enumerate(sorted(files))]\n",
    "    \n",
    "    uploadObj = {\n",
    "        \"md\": {\n",
    "            \"title\": sesamid\n",
    "        },\n",
    "        \"pageList\": {\"pages\": pages_metadata}\n",
    "    }\n",
    "    \n",
    "    headers = {'Content-type': 'application/json'}\n",
    "    try:\n",
    "        cont = s.post('https://transkribus.eu/TrpServer/rest/uploads?collId=', json=uploadObj, headers=headers)\n",
    "        # parse and get upload ID\n",
    "        response = etree.fromstring(cont.content)\n",
    "        uploadId = response.xpath('//uploadId/text()')[0]\n",
    "        print('- successfully uploaded metadata, got id', uploadId)\n",
    "    except:\n",
    "        print(\"-- failed to get upload ID, skipping\", sesamid)\n",
    "        skipped.append(sesamid)\n",
    "        continue\n",
    "    \n",
    "    # loop through files\n",
    "    for key in sorted(files):\n",
    "        print(key)\n",
    "\n",
    "        mp_encoder = MultipartEncoder(\n",
    "        fields={\n",
    "            'img': (key, files[key], 'application/octet-stream')\n",
    "            }\n",
    "        )\n",
    "        \n",
    "        try:\n",
    "            cont = s.put('https://transkribus.eu/TrpServer/rest/uploads/' + uploadId, data=mp_encoder, headers={'Content-Type': mp_encoder.content_type})\n",
    "        except:\n",
    "            print(\"-- failed to upload\", file)\n",
    "            fail = True\n",
    "            break\n",
    "        time.sleep(random.randint(0,2))\n",
    "    if fail == False:\n",
    "        print(\"- done!\")\n",
    "    else:\n",
    "        skipped.append(sesamid)\n",
    "        print(\"-- failed to upload file in \", sesamid, \"skipping this sesamid\")"
   ]
  }
 ],
 "metadata": {
  "kernelspec": {
   "display_name": "Python 3",
   "language": "python",
   "name": "python3"
  },
  "language_info": {
   "codemirror_mode": {
    "name": "ipython",
    "version": 3
   },
   "file_extension": ".py",
   "mimetype": "text/x-python",
   "name": "python",
   "nbconvert_exporter": "python",
   "pygments_lexer": "ipython3",
   "version": "3.8.2"
  }
 },
 "nbformat": 4,
 "nbformat_minor": 2
}
